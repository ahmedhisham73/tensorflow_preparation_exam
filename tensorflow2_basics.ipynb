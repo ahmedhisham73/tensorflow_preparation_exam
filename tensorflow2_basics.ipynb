{
  "nbformat": 4,
  "nbformat_minor": 0,
  "metadata": {
    "colab": {
      "name": "tensorflow2_basics.ipynb",
      "provenance": []
    },
    "kernelspec": {
      "name": "python3",
      "display_name": "Python 3"
    },
    "language_info": {
      "name": "python"
    },
    "accelerator": "GPU"
  },
  "cells": [
    {
      "cell_type": "code",
      "metadata": {
        "colab": {
          "base_uri": "https://localhost:8080/"
        },
        "id": "rLNCHT4idqev",
        "outputId": "113a5006-ba60-49a2-fe83-c405039845b2"
      },
      "source": [
        "\n",
        "import tensorflow as tf\n",
        "\n",
        "const1 = tf.constant([[1,2,3], [1,2,3]]);\n",
        "const2 = tf.constant([[3,4,5], [3,4,5]]);\n",
        "\n",
        "result = tf.add(const1, const2);\n",
        "print(result)"
      ],
      "execution_count": 1,
      "outputs": [
        {
          "output_type": "stream",
          "text": [
            "tf.Tensor(\n",
            "[[4 6 8]\n",
            " [4 6 8]], shape=(2, 3), dtype=int32)\n"
          ],
          "name": "stdout"
        }
      ]
    },
    {
      "cell_type": "markdown",
      "metadata": {
        "id": "gBzLG8mxedGf"
      },
      "source": [
        "basic sequential model"
      ]
    },
    {
      "cell_type": "code",
      "metadata": {
        "id": "P99iWI6NeF4O"
      },
      "source": [
        "import tensorflow as tf\n",
        "from tensorflow.keras import Sequential\n",
        "from tensorflow.keras.layers import Dense\n",
        "\n",
        "model = Sequential()\n",
        "model.add(Dense(3, input_dim=2, activation='relu'))\n",
        "model.add(Dense(1, activation='softmax'))"
      ],
      "execution_count": 2,
      "outputs": []
    },
    {
      "cell_type": "markdown",
      "metadata": {
        "id": "Qkn-hTK7egJp"
      },
      "source": [
        "basic functional model "
      ]
    },
    {
      "cell_type": "code",
      "metadata": {
        "id": "DWxuV07KeSzd"
      },
      "source": [
        "import tensorflow as tf\n",
        "from tensorflow.keras.layers import Input, Dense\n",
        "\n",
        "input_layer = Input(shape=(2,))\n",
        "model = Dense(3, activation='relu')(input_layer)\n",
        "model = Dense(1, activation='softmax')(model)"
      ],
      "execution_count": 3,
      "outputs": []
    },
    {
      "cell_type": "markdown",
      "metadata": {
        "id": "RQbZWJD7etIZ"
      },
      "source": [
        "Model subclassing "
      ]
    },
    {
      "cell_type": "code",
      "metadata": {
        "id": "K2y9I-vVei6b"
      },
      "source": [
        "import tensorflow as tf\n",
        "from tensorflow.keras import Model\n",
        "from tensorflow.keras.layers import Dense\n",
        "\n",
        "class SimpleNeuralNetwork(Model):\n",
        "  def __init__(self):\n",
        "    super(SimpleNeuralNetwork, self).__init__()\n",
        "    self.layer1 = Dense(2, activation='relu')\n",
        "    self.layer2 = Dense(3, activation='relu')\n",
        "    self.outputLayer = Dense(1, activation='softmax')\n",
        "\n",
        "  def call(self, x):\n",
        "    x = self.layer1(x)\n",
        "    x = self.layer2(x)\n",
        "    return self.outputLayer(x)\n",
        "  \n",
        "model = SimpleNeuralNetwork()"
      ],
      "execution_count": 4,
      "outputs": []
    },
    {
      "cell_type": "code",
      "metadata": {
        "id": "aSqTCzVcewYC"
      },
      "source": [
        ""
      ],
      "execution_count": null,
      "outputs": []
    }
  ]
}